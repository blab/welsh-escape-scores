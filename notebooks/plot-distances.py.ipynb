{
 "cells": [
  {
   "cell_type": "code",
   "execution_count": null,
   "id": "8406b58a",
   "metadata": {},
   "outputs": [],
   "source": [
    "from matplotlib import pyplot as plt\n",
    "import pandas as pd\n",
    "import seaborn as sns"
   ]
  },
  {
   "cell_type": "code",
   "execution_count": null,
   "id": "2982ee01",
   "metadata": {},
   "outputs": [],
   "source": [
    "df = pd.read_csv(snakemake.input.distances, sep=\"\\t\")"
   ]
  },
  {
   "cell_type": "code",
   "execution_count": null,
   "id": "447fdeff",
   "metadata": {},
   "outputs": [],
   "source": [
    "g = sns.lmplot(\n",
    "    df,\n",
    "    x=\"welsh_escape\",\n",
    "    y=\"weighted_distance_to_observed_future\",\n",
    "    hue=\"season\",\n",
    "    col=\"season\",\n",
    "    col_wrap=3,\n",
    ")\n",
    "\n",
    "g.set_axis_labels(\n",
    "    \"Welsh et al. escape score\",\n",
    "    \"Weighted distance to observed future (AAs)\",\n",
    ")\n",
    "\n",
    "plt.tight_layout()\n",
    "plt.savefig(snakemake.output.distances_figure, dpi=300)"
   ]
  },
  {
   "cell_type": "code",
   "execution_count": null,
   "id": "32820078",
   "metadata": {},
   "outputs": [],
   "source": []
  }
 ],
 "metadata": {
  "kernelspec": {
   "display_name": "Python 3 (ipykernel)",
   "language": "python",
   "name": "python3"
  },
  "language_info": {
   "codemirror_mode": {
    "name": "ipython",
    "version": 3
   },
   "file_extension": ".py",
   "mimetype": "text/x-python",
   "name": "python",
   "nbconvert_exporter": "python",
   "pygments_lexer": "ipython3",
   "version": "3.10.13"
  }
 },
 "nbformat": 4,
 "nbformat_minor": 5
}
