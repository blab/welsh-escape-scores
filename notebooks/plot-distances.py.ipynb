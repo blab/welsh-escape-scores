{
 "cells": [
  {
   "cell_type": "code",
   "execution_count": null,
   "id": "8406b58a",
   "metadata": {},
   "outputs": [],
   "source": [
    "import matplotlib as mpl\n",
    "from matplotlib import pyplot as plt\n",
    "import numpy as np\n",
    "import pandas as pd\n",
    "from scipy.stats import linregress\n",
    "import seaborn as sns"
   ]
  },
  {
   "cell_type": "code",
   "execution_count": null,
   "id": "5f4f0222",
   "metadata": {},
   "outputs": [],
   "source": [
    "sns.set_style(\"ticks\")\n",
    "\n",
    "# Disable top and right spines.\n",
    "mpl.rcParams['axes.spines.top'] = False\n",
    "mpl.rcParams['axes.spines.right'] = False\n",
    "\n",
    "# Display and save figures at higher resolution for presentations and manuscripts.\n",
    "mpl.rcParams['savefig.dpi'] = 300\n",
    "mpl.rcParams['figure.dpi'] = 120\n",
    "\n",
    "# Display text at sizes large enough for presentations and manuscripts.\n",
    "mpl.rcParams['font.weight'] = \"normal\"\n",
    "mpl.rcParams['axes.labelweight'] = \"normal\"\n",
    "mpl.rcParams['font.size'] = 14\n",
    "mpl.rcParams['axes.labelsize'] = 14\n",
    "mpl.rcParams['legend.fontsize'] = 10\n",
    "mpl.rcParams['xtick.labelsize'] = 14\n",
    "mpl.rcParams['ytick.labelsize'] = 14\n",
    "mpl.rcParams['axes.titlesize'] = 14\n",
    "mpl.rc('text', usetex=False)"
   ]
  },
  {
   "cell_type": "code",
   "execution_count": null,
   "id": "2982ee01",
   "metadata": {},
   "outputs": [],
   "source": [
    "df = pd.read_csv(snakemake.input.distances, sep=\"\\t\").dropna()"
   ]
  },
  {
   "cell_type": "code",
   "execution_count": null,
   "id": "414e8f4f",
   "metadata": {},
   "outputs": [],
   "source": [
    "df.head()"
   ]
  },
  {
   "cell_type": "code",
   "execution_count": null,
   "id": "a70fed55",
   "metadata": {},
   "outputs": [],
   "source": [
    "df.shape"
   ]
  },
  {
   "cell_type": "code",
   "execution_count": null,
   "id": "7807ae7e",
   "metadata": {},
   "outputs": [],
   "source": [
    "df = df.query(\"frequency > 0\").copy()"
   ]
  },
  {
   "cell_type": "code",
   "execution_count": null,
   "id": "7e1ec496",
   "metadata": {},
   "outputs": [],
   "source": [
    "df.shape"
   ]
  },
  {
   "cell_type": "code",
   "execution_count": null,
   "id": "83aefc20",
   "metadata": {},
   "outputs": [],
   "source": [
    "subclades = df[\"subclade\"].drop_duplicates().sort_values().values"
   ]
  },
  {
   "cell_type": "code",
   "execution_count": null,
   "id": "cbf900aa",
   "metadata": {},
   "outputs": [],
   "source": [
    "n_subclades = len(subclades)"
   ]
  },
  {
   "cell_type": "code",
   "execution_count": null,
   "id": "fa902266",
   "metadata": {},
   "outputs": [],
   "source": [
    "n_subclades"
   ]
  },
  {
   "cell_type": "code",
   "execution_count": null,
   "id": "9782dffa",
   "metadata": {},
   "outputs": [],
   "source": [
    "i = 1\n",
    "with open(snakemake.input.color_schemes, \"r\", encoding=\"utf-8\") as fh:\n",
    "    for line in fh:\n",
    "        if i == n_subclades:\n",
    "            colors = line.strip().split(\"\\t\")\n",
    "            break\n",
    "            \n",
    "        i = i + 1"
   ]
  },
  {
   "cell_type": "code",
   "execution_count": null,
   "id": "058ad210",
   "metadata": {},
   "outputs": [],
   "source": [
    "color_by_clade = dict(zip(subclades, colors))"
   ]
  },
  {
   "cell_type": "code",
   "execution_count": null,
   "id": "f2cebff5",
   "metadata": {},
   "outputs": [],
   "source": [
    "historical_clades = df[\"historicalclade\"].drop_duplicates().sort_values().values"
   ]
  },
  {
   "cell_type": "code",
   "execution_count": null,
   "id": "92bee137",
   "metadata": {},
   "outputs": [],
   "source": [
    "n_historical_clades = len(historical_clades)"
   ]
  },
  {
   "cell_type": "code",
   "execution_count": null,
   "id": "39954f82",
   "metadata": {},
   "outputs": [],
   "source": [
    "i = 1\n",
    "with open(snakemake.input.color_schemes, \"r\", encoding=\"utf-8\") as fh:\n",
    "    for line in fh:\n",
    "        if i == n_historical_clades:\n",
    "            historical_colors = line.strip().split(\"\\t\")\n",
    "            break\n",
    "            \n",
    "        i = i + 1"
   ]
  },
  {
   "cell_type": "code",
   "execution_count": null,
   "id": "a8075edd",
   "metadata": {},
   "outputs": [],
   "source": [
    "color_by_historical_clade = dict(zip(historical_clades, historical_colors))"
   ]
  },
  {
   "cell_type": "code",
   "execution_count": null,
   "id": "447fdeff",
   "metadata": {},
   "outputs": [],
   "source": [
    "g = sns.lmplot(\n",
    "    df,\n",
    "    x=\"welsh_escape_per_ha1\",\n",
    "    y=\"weighted_distance_to_observed_future\",\n",
    "    hue=\"subclade\",\n",
    "    hue_order=subclades,\n",
    "    palette=color_by_clade,\n",
    "    col=\"season\",\n",
    "    col_wrap=3,\n",
    "    fit_reg=False,\n",
    "    height=6,\n",
    "    scatter_kws={\"alpha\": 0.5},\n",
    ")\n",
    "\n",
    "g.set_axis_labels(\n",
    "    \"Welsh et al. escape score per HA1 substitutions\",\n",
    "    \"Weighted distance to observed future (AAs)\",\n",
    ")\n",
    "\n",
    "x_values = np.arange(0, df[\"welsh_escape_per_ha1\"].max(), 0.001)\n",
    "\n",
    "for season, season_ax in g.axes_dict.items():\n",
    "    season_df = df[df[\"season\"] == season]\n",
    "    slope, intercept, r, p, se = linregress(\n",
    "        season_df[\"welsh_escape_per_ha1\"].values,\n",
    "        season_df[\"weighted_distance_to_observed_future\"].values,\n",
    "    )\n",
    "    intercept_sign = \"+\" if intercept >= 0 else \"-\"\n",
    "    abs_intercept = np.abs(intercept)\n",
    "    \n",
    "    regression = f\"y = {slope:.2f}x {intercept_sign} {abs_intercept:.2f}\\nPearson's $R^2$={r**2:.2f}\"\n",
    "    \n",
    "    season_ax.text(\n",
    "        0.25,\n",
    "        0.15,\n",
    "        regression,\n",
    "        horizontalalignment='center',\n",
    "        verticalalignment='center',\n",
    "        transform=season_ax.transAxes,\n",
    "    )\n",
    "    \n",
    "    y_values = (slope * x_values) + intercept\n",
    "    season_ax.plot(\n",
    "        x_values,\n",
    "        y_values,\n",
    "        \"-\",\n",
    "        color=\"#999999\",\n",
    "        zorder=-10,\n",
    "    )\n",
    "    \n",
    "    season_ax.set_ylim(bottom=0.0)\n",
    "\n",
    "g.tight_layout()\n",
    "plt.savefig(snakemake.output.distances_by_subclade_and_escape_score, dpi=300)"
   ]
  },
  {
   "cell_type": "code",
   "execution_count": null,
   "id": "b225be04",
   "metadata": {},
   "outputs": [],
   "source": [
    "g = sns.lmplot(\n",
    "    df,\n",
    "    x=\"welsh_escape_upper_80th_quantile_per_ha1\",\n",
    "    y=\"weighted_distance_to_observed_future\",\n",
    "    hue=\"subclade\",\n",
    "    hue_order=subclades,\n",
    "    palette=color_by_clade,\n",
    "    col=\"season\",\n",
    "    col_wrap=3,\n",
    "    fit_reg=False,\n",
    "    height=6,\n",
    "    scatter_kws={\"alpha\": 0.5},\n",
    ")\n",
    "\n",
    "g.set_axis_labels(\n",
    "    \"Upper 80th quantile Welsh et al. escape score\\nper HA1 substitutions\",\n",
    "    \"Weighted distance to observed future (AAs)\",\n",
    ")\n",
    "\n",
    "x_values = np.arange(0, df[\"welsh_escape_upper_80th_quantile_per_ha1\"].max(), 0.001)\n",
    "\n",
    "for season, season_ax in g.axes_dict.items():\n",
    "    season_df = df[df[\"season\"] == season]\n",
    "    slope, intercept, r, p, se = linregress(\n",
    "        season_df[\"welsh_escape_upper_80th_quantile_per_ha1\"].values,\n",
    "        season_df[\"weighted_distance_to_observed_future\"].values,\n",
    "    )\n",
    "    intercept_sign = \"+\" if intercept >= 0 else \"-\"\n",
    "    abs_intercept = np.abs(intercept)\n",
    "    \n",
    "    regression = f\"y = {slope:.2f}x {intercept_sign} {abs_intercept:.2f}\\nPearson's $R^2$={r**2:.2f}\"\n",
    "    \n",
    "    season_ax.text(\n",
    "        0.25,\n",
    "        0.15,\n",
    "        regression,\n",
    "        horizontalalignment='center',\n",
    "        verticalalignment='center',\n",
    "        transform=season_ax.transAxes,\n",
    "    )\n",
    "    \n",
    "    y_values = (slope * x_values) + intercept\n",
    "    season_ax.plot(\n",
    "        x_values,\n",
    "        y_values,\n",
    "        \"-\",\n",
    "        color=\"#999999\",\n",
    "        zorder=-10,\n",
    "    )\n",
    "    \n",
    "    season_ax.set_ylim(bottom=0.0)\n",
    "\n",
    "g.tight_layout()\n",
    "plt.savefig(snakemake.output.distances_by_subclade_and_upper_80th_quantile_escape_score, dpi=300)"
   ]
  },
  {
   "cell_type": "code",
   "execution_count": null,
   "id": "5c8d9d17",
   "metadata": {},
   "outputs": [],
   "source": [
    "seasons = df[\"season\"].drop_duplicates().sort_values().values"
   ]
  },
  {
   "cell_type": "code",
   "execution_count": null,
   "id": "5f96d766",
   "metadata": {},
   "outputs": [],
   "source": [
    "regression_placement_by_season = {\n",
    "    \"2020-10-01\": (0.35, 0.15),\n",
    "    \"2021-02-01\": (0.75, 0.6),\n",
    "    \"2021-10-01\": (0.75, 0.75),\n",
    "    \"2022-02-01\": (0.35, 0.5),\n",
    "    \"2022-10-01\": (0.35, 0.15),\n",
    "    \"2023-02-01\": (0.75, 0.75),\n",
    "}"
   ]
  },
  {
   "cell_type": "code",
   "execution_count": null,
   "id": "bd090a0c",
   "metadata": {},
   "outputs": [],
   "source": [
    "fig, axes = plt.subplots(2, 3, figsize=(12, 8), dpi=300)\n",
    "\n",
    "x_values = np.arange(0, df[\"welsh_escape_per_ha1\"].max(), 0.001)\n",
    "\n",
    "for season, ax in zip(seasons, axes.flatten()):\n",
    "    df_ax = df.query(f\"season == '{season}'\")\n",
    "    \n",
    "    slope, intercept, r, p, se = linregress(\n",
    "        df_ax[\"welsh_escape_per_ha1\"].values,\n",
    "        df_ax[\"weighted_distance_to_observed_future\"].values,\n",
    "    )\n",
    "    intercept_sign = \"+\" if intercept >= 0 else \"-\"\n",
    "    abs_intercept = np.abs(intercept)\n",
    "    \n",
    "    regression = f\"y = {slope:.2f}x {intercept_sign} {abs_intercept:.2f}\\nPearson's $R^2$={r**2:.2f}\"\n",
    "    \n",
    "    ax = sns.scatterplot(\n",
    "        data=df_ax,\n",
    "        x=\"welsh_escape_per_ha1\",\n",
    "        y=\"weighted_distance_to_observed_future\",\n",
    "        hue=\"historicalclade\",\n",
    "        ax=ax,\n",
    "        legend=\"brief\",\n",
    "        alpha=0.5,\n",
    "    )\n",
    "    ax.set_xlabel(\"Welsh et al. escape score\\nper HA1 substitutions\")\n",
    "    ax.set_ylabel(\"Weighted distance to\\nobserved future (AAs)\")\n",
    "\n",
    "    ax.text(\n",
    "        regression_placement_by_season[season][0],\n",
    "        regression_placement_by_season[season][1],\n",
    "        regression,\n",
    "        horizontalalignment='center',\n",
    "        verticalalignment='center',\n",
    "        transform=ax.transAxes,\n",
    "        fontsize=12,\n",
    "    )\n",
    "    \n",
    "    y_values = (slope * x_values) + intercept\n",
    "    ax.plot(\n",
    "        x_values,\n",
    "        y_values,\n",
    "        \"-\",\n",
    "        color=\"#999999\",\n",
    "        zorder=-10,\n",
    "    )\n",
    "    \n",
    "    ax.set_ylim(bottom=0.0)\n",
    "    \n",
    "    ax.legend(\n",
    "        frameon=False,\n",
    "        title=\"clade\",\n",
    "    )\n",
    "    \n",
    "    ax.set_title(season)\n",
    "\n",
    "plt.tight_layout()\n",
    "plt.savefig(snakemake.output.distances_by_historical_clade, dpi=300)"
   ]
  },
  {
   "cell_type": "code",
   "execution_count": null,
   "id": "841f4ec3",
   "metadata": {},
   "outputs": [],
   "source": [
    "g = sns.catplot(\n",
    "    df,\n",
    "    x=\"welsh_escape_per_ha1\",\n",
    "    y=\"historicalclade\",\n",
    "    col=\"season\",\n",
    "    col_wrap=3,\n",
    "    sharey=False,\n",
    "    height=6,\n",
    "    alpha=0.5,\n",
    ")\n",
    "\n",
    "g.set_axis_labels(\n",
    "    \"Welsh et al. escape score per HA1 substitutions\",\n",
    "    \"Clade\",\n",
    ")\n",
    "\n",
    "g.tight_layout()\n",
    "plt.savefig(snakemake.output.escape_scores_by_historical_clade, dpi=300)"
   ]
  },
  {
   "cell_type": "code",
   "execution_count": null,
   "id": "299b2a02",
   "metadata": {},
   "outputs": [],
   "source": [
    "df.groupby([\"season\", \"historicalclade\"]).agg({\"welsh_escape_per_ha1\": [\"mean\", \"median\"]})"
   ]
  },
  {
   "cell_type": "code",
   "execution_count": null,
   "id": "a3996302",
   "metadata": {},
   "outputs": [],
   "source": [
    "df.head()"
   ]
  },
  {
   "cell_type": "code",
   "execution_count": null,
   "id": "2c1726ec",
   "metadata": {},
   "outputs": [],
   "source": [
    "lbi_regression_placement_by_season = {\n",
    "    \"2020-10-01\": (0.35, 0.1),\n",
    "    \"2021-02-01\": (0.75, 0.5),\n",
    "    \"2021-10-01\": (0.75, 0.5),\n",
    "    \"2022-02-01\": (0.35, 0.1),\n",
    "    \"2022-10-01\": (0.75, 0.1),\n",
    "    \"2023-02-01\": (0.75, 0.1),\n",
    "}"
   ]
  },
  {
   "cell_type": "code",
   "execution_count": null,
   "id": "2f4f043d",
   "metadata": {},
   "outputs": [],
   "source": [
    "fig, axes = plt.subplots(2, 3, figsize=(12, 8), dpi=300)\n",
    "\n",
    "x_values = np.arange(0, df[\"lbi\"].max(), 0.001)\n",
    "\n",
    "for season, ax in zip(seasons, axes.flatten()):\n",
    "    df_ax = df.query(f\"season == '{season}'\")\n",
    "    \n",
    "    slope, intercept, r, p, se = linregress(\n",
    "        df_ax[\"lbi\"].values,\n",
    "        df_ax[\"weighted_distance_to_observed_future\"].values,\n",
    "    )\n",
    "    intercept_sign = \"+\" if intercept >= 0 else \"-\"\n",
    "    abs_intercept = np.abs(intercept)\n",
    "    \n",
    "    regression = f\"y = {slope:.2f}x {intercept_sign} {abs_intercept:.2f}\\nPearson's $R^2$={r**2:.2f}\"\n",
    "    \n",
    "    ax = sns.scatterplot(\n",
    "        data=df_ax,\n",
    "        x=\"lbi\",\n",
    "        y=\"weighted_distance_to_observed_future\",\n",
    "        hue=\"historicalclade\",\n",
    "        ax=ax,\n",
    "        legend=\"brief\",\n",
    "        alpha=0.5,\n",
    "    )\n",
    "    ax.set_xlabel(\"Local branching index (LBI)\")\n",
    "    ax.set_ylabel(\"Weighted distance to\\nobserved future (AAs)\")\n",
    "\n",
    "    ax.text(\n",
    "        lbi_regression_placement_by_season[season][0],\n",
    "        lbi_regression_placement_by_season[season][1],\n",
    "        regression,\n",
    "        horizontalalignment='center',\n",
    "        verticalalignment='center',\n",
    "        transform=ax.transAxes,\n",
    "        fontsize=12,\n",
    "    )\n",
    "    \n",
    "    y_values = (slope * x_values) + intercept\n",
    "    ax.plot(\n",
    "        x_values,\n",
    "        y_values,\n",
    "        \"-\",\n",
    "        color=\"#999999\",\n",
    "        zorder=-10,\n",
    "    )\n",
    "    \n",
    "    ax.set_ylim(bottom=0.0)\n",
    "    \n",
    "    ax.legend(\n",
    "        frameon=False,\n",
    "        title=\"clade\",\n",
    "    )\n",
    "    \n",
    "    ax.set_title(season)\n",
    "\n",
    "plt.tight_layout()\n",
    "plt.savefig(snakemake.output.distances_by_historical_clade_and_lbi, dpi=300)"
   ]
  },
  {
   "cell_type": "code",
   "execution_count": null,
   "id": "002ddaa5",
   "metadata": {},
   "outputs": [],
   "source": []
  }
 ],
 "metadata": {
  "kernelspec": {
   "display_name": "Python 3 (ipykernel)",
   "language": "python",
   "name": "python3"
  },
  "language_info": {
   "codemirror_mode": {
    "name": "ipython",
    "version": 3
   },
   "file_extension": ".py",
   "mimetype": "text/x-python",
   "name": "python",
   "nbconvert_exporter": "python",
   "pygments_lexer": "ipython3",
   "version": "3.10.13"
  }
 },
 "nbformat": 4,
 "nbformat_minor": 5
}
