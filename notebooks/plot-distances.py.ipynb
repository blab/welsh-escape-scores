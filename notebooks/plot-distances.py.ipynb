{
 "cells": [
  {
   "cell_type": "code",
   "execution_count": null,
   "id": "8406b58a",
   "metadata": {},
   "outputs": [],
   "source": [
    "import matplotlib as mpl\n",
    "from matplotlib import pyplot as plt\n",
    "import numpy as np\n",
    "import pandas as pd\n",
    "from scipy.stats import linregress\n",
    "import seaborn as sns"
   ]
  },
  {
   "cell_type": "code",
   "execution_count": null,
   "id": "5f4f0222",
   "metadata": {},
   "outputs": [],
   "source": [
    "sns.set_style(\"ticks\")\n",
    "\n",
    "# Disable top and right spines.\n",
    "mpl.rcParams['axes.spines.top'] = False\n",
    "mpl.rcParams['axes.spines.right'] = False\n",
    "\n",
    "# Display and save figures at higher resolution for presentations and manuscripts.\n",
    "mpl.rcParams['savefig.dpi'] = 300\n",
    "mpl.rcParams['figure.dpi'] = 120\n",
    "\n",
    "# Display text at sizes large enough for presentations and manuscripts.\n",
    "mpl.rcParams['font.weight'] = \"normal\"\n",
    "mpl.rcParams['axes.labelweight'] = \"normal\"\n",
    "mpl.rcParams['font.size'] = 14\n",
    "mpl.rcParams['axes.labelsize'] = 14\n",
    "mpl.rcParams['legend.fontsize'] = 10\n",
    "mpl.rcParams['xtick.labelsize'] = 14\n",
    "mpl.rcParams['ytick.labelsize'] = 14\n",
    "mpl.rcParams['axes.titlesize'] = 14\n",
    "mpl.rc('text', usetex=False)"
   ]
  },
  {
   "cell_type": "code",
   "execution_count": null,
   "id": "2982ee01",
   "metadata": {},
   "outputs": [],
   "source": [
    "df = pd.read_csv(snakemake.input.distances, sep=\"\\t\").dropna()"
   ]
  },
  {
   "cell_type": "code",
   "execution_count": null,
   "id": "83aefc20",
   "metadata": {},
   "outputs": [],
   "source": [
    "subclades = df[\"subclade\"].drop_duplicates().sort_values().values"
   ]
  },
  {
   "cell_type": "code",
   "execution_count": null,
   "id": "cbf900aa",
   "metadata": {},
   "outputs": [],
   "source": [
    "n_subclades = len(subclades)"
   ]
  },
  {
   "cell_type": "code",
   "execution_count": null,
   "id": "fa902266",
   "metadata": {},
   "outputs": [],
   "source": [
    "n_subclades"
   ]
  },
  {
   "cell_type": "code",
   "execution_count": null,
   "id": "9782dffa",
   "metadata": {},
   "outputs": [],
   "source": [
    "i = 1\n",
    "with open(snakemake.input.color_schemes, \"r\", encoding=\"utf-8\") as fh:\n",
    "    for line in fh:\n",
    "        if i == n_subclades:\n",
    "            colors = line.strip().split(\"\\t\")\n",
    "            break\n",
    "            \n",
    "        i = i + 1"
   ]
  },
  {
   "cell_type": "code",
   "execution_count": null,
   "id": "058ad210",
   "metadata": {},
   "outputs": [],
   "source": [
    "color_by_clade = dict(zip(subclades, colors))"
   ]
  },
  {
   "cell_type": "code",
   "execution_count": null,
   "id": "82339c87",
   "metadata": {},
   "outputs": [],
   "source": [
    "regression_by_season = {}\n",
    "slope_by_season = {}\n",
    "intercept_by_season = {}\n",
    "\n",
    "for season, season_df in df.groupby(\"season\"):\n",
    "    slope, intercept, r, p, se = linregress(\n",
    "        season_df[\"welsh_escape\"].values,\n",
    "        season_df[\"weighted_distance_to_observed_future\"].values,\n",
    "    )\n",
    "    intercept_sign = \"+\" if intercept >= 0 else \"-\"\n",
    "    abs_intercept = np.abs(intercept)\n",
    "    \n",
    "    regression_by_season[season] = f\"y = {slope:.2f}x {intercept_sign} {abs_intercept:.2f}\\nPearson's $R^2$={r**2:.2f}\"\n",
    "    slope_by_season[season] = slope\n",
    "    intercept_by_season[season] = intercept"
   ]
  },
  {
   "cell_type": "code",
   "execution_count": null,
   "id": "447fdeff",
   "metadata": {},
   "outputs": [],
   "source": [
    "g = sns.lmplot(\n",
    "    df,\n",
    "    x=\"welsh_escape\",\n",
    "    y=\"weighted_distance_to_observed_future\",\n",
    "    hue=\"subclade\",\n",
    "    hue_order=subclades,\n",
    "    palette=color_by_clade,\n",
    "    col=\"season\",\n",
    "    col_wrap=3,\n",
    "    fit_reg=False,\n",
    "    height=6,\n",
    ")\n",
    "\n",
    "g.set_axis_labels(\n",
    "    \"Welsh et al. escape score\",\n",
    "    \"Weighted distance to observed future (AAs)\",\n",
    ")\n",
    "\n",
    "x_values = np.arange(0, df[\"welsh_escape\"].max())\n",
    "\n",
    "for season, season_ax in g.axes_dict.items():\n",
    "    season_ax.text(\n",
    "        0.25,\n",
    "        0.15,\n",
    "        regression_by_season[season],\n",
    "        horizontalalignment='center',\n",
    "        verticalalignment='center',\n",
    "        transform=season_ax.transAxes,\n",
    "    )\n",
    "    \n",
    "    y_values = (slope_by_season[season] * x_values) + intercept_by_season[season]\n",
    "    season_ax.plot(\n",
    "        x_values,\n",
    "        y_values,\n",
    "        \"-\",\n",
    "        color=\"#999999\",\n",
    "        zorder=-10,\n",
    "    )\n",
    "\n",
    "g.tight_layout()\n",
    "plt.savefig(snakemake.output.distances_figure, dpi=300)"
   ]
  },
  {
   "cell_type": "code",
   "execution_count": null,
   "id": "7bd8fe44",
   "metadata": {},
   "outputs": [],
   "source": []
  }
 ],
 "metadata": {
  "kernelspec": {
   "display_name": "Python 3 (ipykernel)",
   "language": "python",
   "name": "python3"
  },
  "language_info": {
   "codemirror_mode": {
    "name": "ipython",
    "version": 3
   },
   "file_extension": ".py",
   "mimetype": "text/x-python",
   "name": "python",
   "nbconvert_exporter": "python",
   "pygments_lexer": "ipython3",
   "version": "3.10.13"
  }
 },
 "nbformat": 4,
 "nbformat_minor": 5
}
