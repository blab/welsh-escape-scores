{
 "cells": [
  {
   "cell_type": "code",
   "execution_count": null,
   "id": "d155ba5b",
   "metadata": {},
   "outputs": [],
   "source": [
    "import datetime\n",
    "import matplotlib as mpl\n",
    "from matplotlib.collections import LineCollection\n",
    "import matplotlib.dates as mdates\n",
    "import matplotlib.pyplot as plt"
   ]
  },
  {
   "cell_type": "code",
   "execution_count": null,
   "id": "ebeae041",
   "metadata": {},
   "outputs": [],
   "source": [
    "# Display figures at a reasonable default size.\n",
    "mpl.rcParams['figure.figsize'] = (6, 4)\n",
    "\n",
    "# Disable top and right spines.\n",
    "mpl.rcParams['axes.spines.top'] = False\n",
    "mpl.rcParams['axes.spines.right'] = False\n",
    "    \n",
    "# Display text at sizes large enough for presentations and manuscripts.\n",
    "mpl.rcParams['font.weight'] = \"normal\"\n",
    "mpl.rcParams['axes.labelweight'] = \"normal\"\n",
    "mpl.rcParams['font.size'] = 18\n",
    "mpl.rcParams['axes.labelsize'] = 14\n",
    "mpl.rcParams['legend.fontsize'] = 12\n",
    "mpl.rcParams['xtick.labelsize'] = 14\n",
    "mpl.rcParams['ytick.labelsize'] = 14\n",
    "\n",
    "mpl.rc('text', usetex=False)"
   ]
  },
  {
   "cell_type": "code",
   "execution_count": null,
   "id": "0991d650",
   "metadata": {},
   "outputs": [],
   "source": [
    "date_format = \"%Y-%m-%d\""
   ]
  },
  {
   "cell_type": "code",
   "execution_count": null,
   "id": "8b53eb49",
   "metadata": {},
   "outputs": [],
   "source": [
    "current_and_future_season_pairs = [\n",
    "    (\n",
    "        datetime.datetime.strptime(current_season, date_format),\n",
    "        datetime.datetime.strptime(future_season, date_format)\n",
    "    )\n",
    "    for current_season, future_season in snakemake.params.future_season_by_current_season.items()\n",
    "]"
   ]
  },
  {
   "cell_type": "code",
   "execution_count": null,
   "id": "99d4da9e",
   "metadata": {},
   "outputs": [],
   "source": [
    "current_and_future_season_pairs"
   ]
  },
  {
   "cell_type": "code",
   "execution_count": null,
   "id": "afed1dd1",
   "metadata": {},
   "outputs": [],
   "source": [
    "y_positions = list(range(len(current_and_future_season_pairs)))"
   ]
  },
  {
   "cell_type": "code",
   "execution_count": null,
   "id": "dae13fdc",
   "metadata": {},
   "outputs": [],
   "source": [
    "y_positions"
   ]
  },
  {
   "cell_type": "code",
   "execution_count": null,
   "id": "48c43284",
   "metadata": {},
   "outputs": [],
   "source": [
    "line_segments = []\n",
    "for (current_season, future_season), y in zip(current_and_future_season_pairs, y_positions):\n",
    "    line_segments.append([\n",
    "        (mdates.date2num(current_season), y),\n",
    "        (mdates.date2num(future_season), y)\n",
    "    ])"
   ]
  },
  {
   "cell_type": "code",
   "execution_count": null,
   "id": "467441ad",
   "metadata": {},
   "outputs": [],
   "source": [
    "line_segments"
   ]
  },
  {
   "cell_type": "code",
   "execution_count": null,
   "id": "ab9a6199",
   "metadata": {},
   "outputs": [],
   "source": [
    "fig, ax = plt.subplots(1, 1, figsize=(8, 3), dpi=300)\n",
    "\n",
    "markersize = 4\n",
    "years = mdates.YearLocator(1)\n",
    "years_fmt = mdates.DateFormatter(\"%Y\")\n",
    "months = mdates.MonthLocator()\n",
    "\n",
    "training_lc = LineCollection(line_segments, zorder=-9)\n",
    "training_lc.set_color(\"#999999\")\n",
    "training_lc.set_linewidth(1)\n",
    "training_artist = ax.add_collection(training_lc)\n",
    "\n",
    "ax.plot(\n",
    "    [x[0][0] for x in line_segments],\n",
    "    [y[0][1] for y in line_segments],\n",
    "    \"o\",\n",
    "    color=\"#529AB6\",\n",
    "    label=\"VCM date\"\n",
    ")\n",
    "ax.plot(\n",
    "    [x[1][0] for x in line_segments],\n",
    "    [y[1][1] for y in line_segments],\n",
    "    \"o\",\n",
    "    color=\"#529AB6\",\n",
    "    fillstyle=\"none\",\n",
    "    label=\"future season from VCM\"\n",
    ")\n",
    "\n",
    "ax.xaxis.set_major_locator(years)\n",
    "ax.xaxis.set_major_formatter(years_fmt)\n",
    "ax.xaxis.set_minor_locator(months)\n",
    "ax.format_xdata = mdates.DateFormatter(\"%y-%m\")\n",
    "\n",
    "ax.spines['left'].set_visible(False)\n",
    "ax.tick_params(axis='y',size=0)\n",
    "ax.set_yticklabels([])\n",
    "\n",
    "ax.set_xlabel(\"Date\")\n",
    "\n",
    "ax.legend(frameon=False)\n",
    "\n",
    "fig.autofmt_xdate(rotation=0, ha=\"center\")\n",
    "plt.tight_layout()\n",
    "plt.savefig(snakemake.output.experimental_design, dpi=300)"
   ]
  },
  {
   "cell_type": "code",
   "execution_count": null,
   "id": "0d3b3edc",
   "metadata": {},
   "outputs": [],
   "source": []
  }
 ],
 "metadata": {
  "kernelspec": {
   "display_name": "Python 3 (ipykernel)",
   "language": "python",
   "name": "python3"
  },
  "language_info": {
   "codemirror_mode": {
    "name": "ipython",
    "version": 3
   },
   "file_extension": ".py",
   "mimetype": "text/x-python",
   "name": "python",
   "nbconvert_exporter": "python",
   "pygments_lexer": "ipython3",
   "version": "3.10.13"
  }
 },
 "nbformat": 4,
 "nbformat_minor": 5
}
